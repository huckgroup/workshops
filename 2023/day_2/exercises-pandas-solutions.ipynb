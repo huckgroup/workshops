{
 "cells": [
  {
   "cell_type": "code",
   "execution_count": 73,
   "metadata": {},
   "outputs": [],
   "source": [
    "import numpy as np\n",
    "import pandas as pd"
   ]
  },
  {
   "cell_type": "code",
   "execution_count": 2,
   "metadata": {},
   "outputs": [
    {
     "data": {
      "text/html": [
       "<div>\n",
       "<style scoped>\n",
       "    .dataframe tbody tr th:only-of-type {\n",
       "        vertical-align: middle;\n",
       "    }\n",
       "\n",
       "    .dataframe tbody tr th {\n",
       "        vertical-align: top;\n",
       "    }\n",
       "\n",
       "    .dataframe thead th {\n",
       "        text-align: right;\n",
       "    }\n",
       "</style>\n",
       "<table border=\"1\" class=\"dataframe\">\n",
       "  <thead>\n",
       "    <tr style=\"text-align: right;\">\n",
       "      <th></th>\n",
       "      <th>species</th>\n",
       "      <th>island</th>\n",
       "      <th>bill_length_mm</th>\n",
       "      <th>bill_depth_mm</th>\n",
       "      <th>flipper_length_mm</th>\n",
       "      <th>body_mass_g</th>\n",
       "      <th>sex</th>\n",
       "    </tr>\n",
       "  </thead>\n",
       "  <tbody>\n",
       "    <tr>\n",
       "      <th>0</th>\n",
       "      <td>Adelie</td>\n",
       "      <td>Torgersen</td>\n",
       "      <td>39.1</td>\n",
       "      <td>18.7</td>\n",
       "      <td>181.0</td>\n",
       "      <td>3750.0</td>\n",
       "      <td>Male</td>\n",
       "    </tr>\n",
       "    <tr>\n",
       "      <th>1</th>\n",
       "      <td>Adelie</td>\n",
       "      <td>Torgersen</td>\n",
       "      <td>39.5</td>\n",
       "      <td>17.4</td>\n",
       "      <td>186.0</td>\n",
       "      <td>3800.0</td>\n",
       "      <td>Female</td>\n",
       "    </tr>\n",
       "    <tr>\n",
       "      <th>2</th>\n",
       "      <td>Adelie</td>\n",
       "      <td>Torgersen</td>\n",
       "      <td>40.3</td>\n",
       "      <td>18.0</td>\n",
       "      <td>195.0</td>\n",
       "      <td>3250.0</td>\n",
       "      <td>Female</td>\n",
       "    </tr>\n",
       "    <tr>\n",
       "      <th>3</th>\n",
       "      <td>Adelie</td>\n",
       "      <td>Torgersen</td>\n",
       "      <td>NaN</td>\n",
       "      <td>NaN</td>\n",
       "      <td>NaN</td>\n",
       "      <td>NaN</td>\n",
       "      <td>NaN</td>\n",
       "    </tr>\n",
       "    <tr>\n",
       "      <th>4</th>\n",
       "      <td>Adelie</td>\n",
       "      <td>Torgersen</td>\n",
       "      <td>36.7</td>\n",
       "      <td>19.3</td>\n",
       "      <td>193.0</td>\n",
       "      <td>3450.0</td>\n",
       "      <td>Female</td>\n",
       "    </tr>\n",
       "    <tr>\n",
       "      <th>5</th>\n",
       "      <td>Adelie</td>\n",
       "      <td>Torgersen</td>\n",
       "      <td>39.3</td>\n",
       "      <td>20.6</td>\n",
       "      <td>190.0</td>\n",
       "      <td>3650.0</td>\n",
       "      <td>Male</td>\n",
       "    </tr>\n",
       "  </tbody>\n",
       "</table>\n",
       "</div>"
      ],
      "text/plain": [
       "  species     island  bill_length_mm  bill_depth_mm  flipper_length_mm  \\\n",
       "0  Adelie  Torgersen            39.1           18.7              181.0   \n",
       "1  Adelie  Torgersen            39.5           17.4              186.0   \n",
       "2  Adelie  Torgersen            40.3           18.0              195.0   \n",
       "3  Adelie  Torgersen             NaN            NaN                NaN   \n",
       "4  Adelie  Torgersen            36.7           19.3              193.0   \n",
       "5  Adelie  Torgersen            39.3           20.6              190.0   \n",
       "\n",
       "   body_mass_g     sex  \n",
       "0       3750.0    Male  \n",
       "1       3800.0  Female  \n",
       "2       3250.0  Female  \n",
       "3          NaN     NaN  \n",
       "4       3450.0  Female  \n",
       "5       3650.0    Male  "
      ]
     },
     "execution_count": 2,
     "metadata": {},
     "output_type": "execute_result"
    }
   ],
   "source": [
    "df_penguins = pd.read_csv(\"penguins.csv\")\n",
    "df_penguins.head(6)"
   ]
  },
  {
   "attachments": {},
   "cell_type": "markdown",
   "metadata": {},
   "source": [
    "# Part I - Exploring our dataset\n",
    "\n",
    "We want to explore this dataset a bit further, but to do that we first want to clean it up a bit!\n",
    "Can you:\n",
    "\n",
    "1. `rename` the columns to shorter names\n",
    "2. remove all of the rows with `NaN` values"
   ]
  },
  {
   "cell_type": "code",
   "execution_count": 3,
   "metadata": {},
   "outputs": [],
   "source": [
    "df_penguins = df_penguins.rename(columns={'bill_length_mm': 'bill_l', 'bill_depth_mm': 'bill_d', 'flipper_length_mm': 'flipper_l', 'body_mass_g': 'mass'}).dropna()"
   ]
  },
  {
   "attachments": {},
   "cell_type": "markdown",
   "metadata": {},
   "source": [
    "After cleaning it, we want to get a general sense of the values in this dataset.\n",
    "Can you get `list`s of all the unique `species`, `island`s, and `sex`es in this dataset?"
   ]
  },
  {
   "cell_type": "code",
   "execution_count": 21,
   "metadata": {},
   "outputs": [
    {
     "data": {
      "text/plain": [
       "array(['Adelie', 'Chinstrap', 'Gentoo'], dtype=object)"
      ]
     },
     "execution_count": 21,
     "metadata": {},
     "output_type": "execute_result"
    }
   ],
   "source": [
    "species = df_penguins['species'].unique()\n",
    "islands = df_penguins['island'].unique()\n",
    "sexes = df_penguins['sex'].unique()\n",
    "\n",
    "species"
   ]
  },
  {
   "attachments": {},
   "cell_type": "markdown",
   "metadata": {},
   "source": [
    "Let's dive in a bit deeper. The Adelie and Gentoo species on the Biscoe island might have different in weight from the Adelie and Chinstrap on the Dream island. \n",
    "Can you calculate the average weight of both species on these two islands?"
   ]
  },
  {
   "cell_type": "code",
   "execution_count": 30,
   "metadata": {},
   "outputs": [
    {
     "name": "stdout",
     "output_type": "stream",
     "text": [
      "Adelie Biscoe: 3709.659090909091\n",
      "Adelie Dream: 3701.3636363636365\n",
      "Gentoo Biscoe: 5092.436974789916\n",
      "Chinstrap Dream: 3733.0882352941176\n"
     ]
    }
   ],
   "source": [
    "# We can do this in multiple ways, all shown below. These are all equivalent, so it is up to your preference what you use.\n",
    "# At the end of the next exercise we show a different, much quicker way of obtaining the final answers\n",
    "\n",
    "adelie_biscoe = df_penguins.query(\"species == 'Adelie' & island == 'Biscoe'\")['mass'].mean()\n",
    "adelie_dream = df_penguins[(df_penguins.species=='Adelie') & (df_penguins.island=='Dream')]['mass'].mean()\n",
    "\n",
    "gentoo_biscoe = df_penguins.loc[(df_penguins.species=='Gentoo') & (df_penguins.island=='Biscoe')]['mass'].mean()\n",
    "chinstrap_dream = df_penguins.query(\"species == 'Chinstrap' & island == 'Dream'\").mean(numeric_only=True)['mass']\n",
    "\n",
    "print(f\"Adelie Biscoe: {adelie_biscoe}\")\n",
    "print(f\"Adelie Dream: {adelie_dream}\")\n",
    "print(f\"Gentoo Biscoe: {gentoo_biscoe}\")\n",
    "print(f\"Chinstrap Dream: {chinstrap_dream}\")"
   ]
  },
  {
   "attachments": {},
   "cell_type": "markdown",
   "metadata": {},
   "source": [
    "# Part II - Tidy data"
   ]
  },
  {
   "cell_type": "code",
   "execution_count": 36,
   "metadata": {},
   "outputs": [
    {
     "data": {
      "text/html": [
       "<div>\n",
       "<style scoped>\n",
       "    .dataframe tbody tr th:only-of-type {\n",
       "        vertical-align: middle;\n",
       "    }\n",
       "\n",
       "    .dataframe tbody tr th {\n",
       "        vertical-align: top;\n",
       "    }\n",
       "\n",
       "    .dataframe thead th {\n",
       "        text-align: right;\n",
       "    }\n",
       "</style>\n",
       "<table border=\"1\" class=\"dataframe\">\n",
       "  <thead>\n",
       "    <tr style=\"text-align: right;\">\n",
       "      <th></th>\n",
       "      <th>year</th>\n",
       "      <th>month</th>\n",
       "      <th>passengers</th>\n",
       "    </tr>\n",
       "  </thead>\n",
       "  <tbody>\n",
       "    <tr>\n",
       "      <th>0</th>\n",
       "      <td>1949</td>\n",
       "      <td>Jan</td>\n",
       "      <td>112</td>\n",
       "    </tr>\n",
       "    <tr>\n",
       "      <th>1</th>\n",
       "      <td>1949</td>\n",
       "      <td>Feb</td>\n",
       "      <td>118</td>\n",
       "    </tr>\n",
       "    <tr>\n",
       "      <th>2</th>\n",
       "      <td>1949</td>\n",
       "      <td>Mar</td>\n",
       "      <td>132</td>\n",
       "    </tr>\n",
       "    <tr>\n",
       "      <th>3</th>\n",
       "      <td>1949</td>\n",
       "      <td>Apr</td>\n",
       "      <td>129</td>\n",
       "    </tr>\n",
       "    <tr>\n",
       "      <th>4</th>\n",
       "      <td>1949</td>\n",
       "      <td>May</td>\n",
       "      <td>121</td>\n",
       "    </tr>\n",
       "  </tbody>\n",
       "</table>\n",
       "</div>"
      ],
      "text/plain": [
       "   year month  passengers\n",
       "0  1949   Jan         112\n",
       "1  1949   Feb         118\n",
       "2  1949   Mar         132\n",
       "3  1949   Apr         129\n",
       "4  1949   May         121"
      ]
     },
     "execution_count": 36,
     "metadata": {},
     "output_type": "execute_result"
    }
   ],
   "source": [
    "df_flights = pd.read_csv('flights.csv')\n",
    "df_flights.head(5)"
   ]
  },
  {
   "attachments": {},
   "cell_type": "markdown",
   "metadata": {},
   "source": [
    "The `flights` data is very long at the moment? \n",
    "Can you make it wide again, so every month has its own column?"
   ]
  },
  {
   "cell_type": "code",
   "execution_count": 37,
   "metadata": {},
   "outputs": [
    {
     "data": {
      "text/html": [
       "<div>\n",
       "<style scoped>\n",
       "    .dataframe tbody tr th:only-of-type {\n",
       "        vertical-align: middle;\n",
       "    }\n",
       "\n",
       "    .dataframe tbody tr th {\n",
       "        vertical-align: top;\n",
       "    }\n",
       "\n",
       "    .dataframe thead th {\n",
       "        text-align: right;\n",
       "    }\n",
       "</style>\n",
       "<table border=\"1\" class=\"dataframe\">\n",
       "  <thead>\n",
       "    <tr style=\"text-align: right;\">\n",
       "      <th>month</th>\n",
       "      <th>Apr</th>\n",
       "      <th>Aug</th>\n",
       "      <th>Dec</th>\n",
       "      <th>Feb</th>\n",
       "      <th>Jan</th>\n",
       "      <th>Jul</th>\n",
       "      <th>Jun</th>\n",
       "      <th>Mar</th>\n",
       "      <th>May</th>\n",
       "      <th>Nov</th>\n",
       "      <th>Oct</th>\n",
       "      <th>Sep</th>\n",
       "    </tr>\n",
       "    <tr>\n",
       "      <th>year</th>\n",
       "      <th></th>\n",
       "      <th></th>\n",
       "      <th></th>\n",
       "      <th></th>\n",
       "      <th></th>\n",
       "      <th></th>\n",
       "      <th></th>\n",
       "      <th></th>\n",
       "      <th></th>\n",
       "      <th></th>\n",
       "      <th></th>\n",
       "      <th></th>\n",
       "    </tr>\n",
       "  </thead>\n",
       "  <tbody>\n",
       "    <tr>\n",
       "      <th>1949</th>\n",
       "      <td>129</td>\n",
       "      <td>148</td>\n",
       "      <td>118</td>\n",
       "      <td>118</td>\n",
       "      <td>112</td>\n",
       "      <td>148</td>\n",
       "      <td>135</td>\n",
       "      <td>132</td>\n",
       "      <td>121</td>\n",
       "      <td>104</td>\n",
       "      <td>119</td>\n",
       "      <td>136</td>\n",
       "    </tr>\n",
       "    <tr>\n",
       "      <th>1950</th>\n",
       "      <td>135</td>\n",
       "      <td>170</td>\n",
       "      <td>140</td>\n",
       "      <td>126</td>\n",
       "      <td>115</td>\n",
       "      <td>170</td>\n",
       "      <td>149</td>\n",
       "      <td>141</td>\n",
       "      <td>125</td>\n",
       "      <td>114</td>\n",
       "      <td>133</td>\n",
       "      <td>158</td>\n",
       "    </tr>\n",
       "    <tr>\n",
       "      <th>1951</th>\n",
       "      <td>163</td>\n",
       "      <td>199</td>\n",
       "      <td>166</td>\n",
       "      <td>150</td>\n",
       "      <td>145</td>\n",
       "      <td>199</td>\n",
       "      <td>178</td>\n",
       "      <td>178</td>\n",
       "      <td>172</td>\n",
       "      <td>146</td>\n",
       "      <td>162</td>\n",
       "      <td>184</td>\n",
       "    </tr>\n",
       "    <tr>\n",
       "      <th>1952</th>\n",
       "      <td>181</td>\n",
       "      <td>242</td>\n",
       "      <td>194</td>\n",
       "      <td>180</td>\n",
       "      <td>171</td>\n",
       "      <td>230</td>\n",
       "      <td>218</td>\n",
       "      <td>193</td>\n",
       "      <td>183</td>\n",
       "      <td>172</td>\n",
       "      <td>191</td>\n",
       "      <td>209</td>\n",
       "    </tr>\n",
       "    <tr>\n",
       "      <th>1953</th>\n",
       "      <td>235</td>\n",
       "      <td>272</td>\n",
       "      <td>201</td>\n",
       "      <td>196</td>\n",
       "      <td>196</td>\n",
       "      <td>264</td>\n",
       "      <td>243</td>\n",
       "      <td>236</td>\n",
       "      <td>229</td>\n",
       "      <td>180</td>\n",
       "      <td>211</td>\n",
       "      <td>237</td>\n",
       "    </tr>\n",
       "    <tr>\n",
       "      <th>1954</th>\n",
       "      <td>227</td>\n",
       "      <td>293</td>\n",
       "      <td>229</td>\n",
       "      <td>188</td>\n",
       "      <td>204</td>\n",
       "      <td>302</td>\n",
       "      <td>264</td>\n",
       "      <td>235</td>\n",
       "      <td>234</td>\n",
       "      <td>203</td>\n",
       "      <td>229</td>\n",
       "      <td>259</td>\n",
       "    </tr>\n",
       "    <tr>\n",
       "      <th>1955</th>\n",
       "      <td>269</td>\n",
       "      <td>347</td>\n",
       "      <td>278</td>\n",
       "      <td>233</td>\n",
       "      <td>242</td>\n",
       "      <td>364</td>\n",
       "      <td>315</td>\n",
       "      <td>267</td>\n",
       "      <td>270</td>\n",
       "      <td>237</td>\n",
       "      <td>274</td>\n",
       "      <td>312</td>\n",
       "    </tr>\n",
       "    <tr>\n",
       "      <th>1956</th>\n",
       "      <td>313</td>\n",
       "      <td>405</td>\n",
       "      <td>306</td>\n",
       "      <td>277</td>\n",
       "      <td>284</td>\n",
       "      <td>413</td>\n",
       "      <td>374</td>\n",
       "      <td>317</td>\n",
       "      <td>318</td>\n",
       "      <td>271</td>\n",
       "      <td>306</td>\n",
       "      <td>355</td>\n",
       "    </tr>\n",
       "    <tr>\n",
       "      <th>1957</th>\n",
       "      <td>348</td>\n",
       "      <td>467</td>\n",
       "      <td>336</td>\n",
       "      <td>301</td>\n",
       "      <td>315</td>\n",
       "      <td>465</td>\n",
       "      <td>422</td>\n",
       "      <td>356</td>\n",
       "      <td>355</td>\n",
       "      <td>305</td>\n",
       "      <td>347</td>\n",
       "      <td>404</td>\n",
       "    </tr>\n",
       "    <tr>\n",
       "      <th>1958</th>\n",
       "      <td>348</td>\n",
       "      <td>505</td>\n",
       "      <td>337</td>\n",
       "      <td>318</td>\n",
       "      <td>340</td>\n",
       "      <td>491</td>\n",
       "      <td>435</td>\n",
       "      <td>362</td>\n",
       "      <td>363</td>\n",
       "      <td>310</td>\n",
       "      <td>359</td>\n",
       "      <td>404</td>\n",
       "    </tr>\n",
       "    <tr>\n",
       "      <th>1959</th>\n",
       "      <td>396</td>\n",
       "      <td>559</td>\n",
       "      <td>405</td>\n",
       "      <td>342</td>\n",
       "      <td>360</td>\n",
       "      <td>548</td>\n",
       "      <td>472</td>\n",
       "      <td>406</td>\n",
       "      <td>420</td>\n",
       "      <td>362</td>\n",
       "      <td>407</td>\n",
       "      <td>463</td>\n",
       "    </tr>\n",
       "    <tr>\n",
       "      <th>1960</th>\n",
       "      <td>461</td>\n",
       "      <td>606</td>\n",
       "      <td>432</td>\n",
       "      <td>391</td>\n",
       "      <td>417</td>\n",
       "      <td>622</td>\n",
       "      <td>535</td>\n",
       "      <td>419</td>\n",
       "      <td>472</td>\n",
       "      <td>390</td>\n",
       "      <td>461</td>\n",
       "      <td>508</td>\n",
       "    </tr>\n",
       "  </tbody>\n",
       "</table>\n",
       "</div>"
      ],
      "text/plain": [
       "month  Apr  Aug  Dec  Feb  Jan  Jul  Jun  Mar  May  Nov  Oct  Sep\n",
       "year                                                             \n",
       "1949   129  148  118  118  112  148  135  132  121  104  119  136\n",
       "1950   135  170  140  126  115  170  149  141  125  114  133  158\n",
       "1951   163  199  166  150  145  199  178  178  172  146  162  184\n",
       "1952   181  242  194  180  171  230  218  193  183  172  191  209\n",
       "1953   235  272  201  196  196  264  243  236  229  180  211  237\n",
       "1954   227  293  229  188  204  302  264  235  234  203  229  259\n",
       "1955   269  347  278  233  242  364  315  267  270  237  274  312\n",
       "1956   313  405  306  277  284  413  374  317  318  271  306  355\n",
       "1957   348  467  336  301  315  465  422  356  355  305  347  404\n",
       "1958   348  505  337  318  340  491  435  362  363  310  359  404\n",
       "1959   396  559  405  342  360  548  472  406  420  362  407  463\n",
       "1960   461  606  432  391  417  622  535  419  472  390  461  508"
      ]
     },
     "execution_count": 37,
     "metadata": {},
     "output_type": "execute_result"
    }
   ],
   "source": [
    "df_flights_wide = df_flights.pivot(index='year', columns='month', values='passengers')\n",
    "df_flights_wide"
   ]
  },
  {
   "attachments": {},
   "cell_type": "markdown",
   "metadata": {},
   "source": [
    "Often when working with datasets, a long format is clearer to use than a wide format.\n",
    "\n",
    "As an exercise, for both formats, can you calculate the average # of passengers per month for every year?\n",
    "Which approach do you find more readable and understandable?"
   ]
  },
  {
   "cell_type": "code",
   "execution_count": 38,
   "metadata": {},
   "outputs": [
    {
     "data": {
      "text/html": [
       "<div>\n",
       "<style scoped>\n",
       "    .dataframe tbody tr th:only-of-type {\n",
       "        vertical-align: middle;\n",
       "    }\n",
       "\n",
       "    .dataframe tbody tr th {\n",
       "        vertical-align: top;\n",
       "    }\n",
       "\n",
       "    .dataframe thead th {\n",
       "        text-align: right;\n",
       "    }\n",
       "</style>\n",
       "<table border=\"1\" class=\"dataframe\">\n",
       "  <thead>\n",
       "    <tr style=\"text-align: right;\">\n",
       "      <th></th>\n",
       "      <th>passengers</th>\n",
       "    </tr>\n",
       "    <tr>\n",
       "      <th>month</th>\n",
       "      <th></th>\n",
       "    </tr>\n",
       "  </thead>\n",
       "  <tbody>\n",
       "    <tr>\n",
       "      <th>Apr</th>\n",
       "      <td>267.083333</td>\n",
       "    </tr>\n",
       "    <tr>\n",
       "      <th>Aug</th>\n",
       "      <td>351.083333</td>\n",
       "    </tr>\n",
       "    <tr>\n",
       "      <th>Dec</th>\n",
       "      <td>261.833333</td>\n",
       "    </tr>\n",
       "    <tr>\n",
       "      <th>Feb</th>\n",
       "      <td>235.000000</td>\n",
       "    </tr>\n",
       "    <tr>\n",
       "      <th>Jan</th>\n",
       "      <td>241.750000</td>\n",
       "    </tr>\n",
       "    <tr>\n",
       "      <th>Jul</th>\n",
       "      <td>351.333333</td>\n",
       "    </tr>\n",
       "    <tr>\n",
       "      <th>Jun</th>\n",
       "      <td>311.666667</td>\n",
       "    </tr>\n",
       "    <tr>\n",
       "      <th>Mar</th>\n",
       "      <td>270.166667</td>\n",
       "    </tr>\n",
       "    <tr>\n",
       "      <th>May</th>\n",
       "      <td>271.833333</td>\n",
       "    </tr>\n",
       "    <tr>\n",
       "      <th>Nov</th>\n",
       "      <td>232.833333</td>\n",
       "    </tr>\n",
       "    <tr>\n",
       "      <th>Oct</th>\n",
       "      <td>266.583333</td>\n",
       "    </tr>\n",
       "    <tr>\n",
       "      <th>Sep</th>\n",
       "      <td>302.416667</td>\n",
       "    </tr>\n",
       "  </tbody>\n",
       "</table>\n",
       "</div>"
      ],
      "text/plain": [
       "       passengers\n",
       "month            \n",
       "Apr    267.083333\n",
       "Aug    351.083333\n",
       "Dec    261.833333\n",
       "Feb    235.000000\n",
       "Jan    241.750000\n",
       "Jul    351.333333\n",
       "Jun    311.666667\n",
       "Mar    270.166667\n",
       "May    271.833333\n",
       "Nov    232.833333\n",
       "Oct    266.583333\n",
       "Sep    302.416667"
      ]
     },
     "execution_count": 38,
     "metadata": {},
     "output_type": "execute_result"
    }
   ],
   "source": [
    "df_flights.groupby('month')[['passengers']].mean()"
   ]
  },
  {
   "cell_type": "code",
   "execution_count": 34,
   "metadata": {},
   "outputs": [
    {
     "data": {
      "text/plain": [
       "year\n",
       "1949    126.666667\n",
       "1950    139.666667\n",
       "1951    170.166667\n",
       "1952    197.000000\n",
       "1953    225.000000\n",
       "1954    238.916667\n",
       "1955    284.000000\n",
       "1956    328.250000\n",
       "1957    368.416667\n",
       "1958    381.000000\n",
       "1959    428.333333\n",
       "1960    476.166667\n",
       "dtype: float64"
      ]
     },
     "execution_count": 34,
     "metadata": {},
     "output_type": "execute_result"
    }
   ],
   "source": [
    "df_flights_wide.mean(axis=1)"
   ]
  },
  {
   "attachments": {},
   "cell_type": "markdown",
   "metadata": {},
   "source": [
    "Can you redo the last exercise of part I, but now using `groupby` to obtain the average weight of all species on all island separately?"
   ]
  },
  {
   "cell_type": "code",
   "execution_count": 40,
   "metadata": {},
   "outputs": [
    {
     "data": {
      "text/html": [
       "<div>\n",
       "<style scoped>\n",
       "    .dataframe tbody tr th:only-of-type {\n",
       "        vertical-align: middle;\n",
       "    }\n",
       "\n",
       "    .dataframe tbody tr th {\n",
       "        vertical-align: top;\n",
       "    }\n",
       "\n",
       "    .dataframe thead th {\n",
       "        text-align: right;\n",
       "    }\n",
       "</style>\n",
       "<table border=\"1\" class=\"dataframe\">\n",
       "  <thead>\n",
       "    <tr style=\"text-align: right;\">\n",
       "      <th></th>\n",
       "      <th></th>\n",
       "      <th>mass</th>\n",
       "    </tr>\n",
       "    <tr>\n",
       "      <th>species</th>\n",
       "      <th>island</th>\n",
       "      <th></th>\n",
       "    </tr>\n",
       "  </thead>\n",
       "  <tbody>\n",
       "    <tr>\n",
       "      <th rowspan=\"3\" valign=\"top\">Adelie</th>\n",
       "      <th>Biscoe</th>\n",
       "      <td>3709.659091</td>\n",
       "    </tr>\n",
       "    <tr>\n",
       "      <th>Dream</th>\n",
       "      <td>3701.363636</td>\n",
       "    </tr>\n",
       "    <tr>\n",
       "      <th>Torgersen</th>\n",
       "      <td>3708.510638</td>\n",
       "    </tr>\n",
       "    <tr>\n",
       "      <th>Chinstrap</th>\n",
       "      <th>Dream</th>\n",
       "      <td>3733.088235</td>\n",
       "    </tr>\n",
       "    <tr>\n",
       "      <th>Gentoo</th>\n",
       "      <th>Biscoe</th>\n",
       "      <td>5092.436975</td>\n",
       "    </tr>\n",
       "  </tbody>\n",
       "</table>\n",
       "</div>"
      ],
      "text/plain": [
       "                            mass\n",
       "species   island                \n",
       "Adelie    Biscoe     3709.659091\n",
       "          Dream      3701.363636\n",
       "          Torgersen  3708.510638\n",
       "Chinstrap Dream      3733.088235\n",
       "Gentoo    Biscoe     5092.436975"
      ]
     },
     "execution_count": 40,
     "metadata": {},
     "output_type": "execute_result"
    }
   ],
   "source": [
    "penguin_mass = df_penguins.groupby(['species', 'island'])[['mass']].mean()\n",
    "penguin_mass"
   ]
  },
  {
   "attachments": {},
   "cell_type": "markdown",
   "metadata": {},
   "source": [
    "# Part III - Visualization"
   ]
  },
  {
   "cell_type": "code",
   "execution_count": 41,
   "metadata": {},
   "outputs": [],
   "source": [
    "import matplotlib.pyplot as plt"
   ]
  },
  {
   "attachments": {},
   "cell_type": "markdown",
   "metadata": {},
   "source": [
    "We want to investigate the distribution of mass and flipper length in penguins.\n",
    "For every penguin, can you plot the mass vs flipper length, colored by penguin species?"
   ]
  },
  {
   "cell_type": "code",
   "execution_count": 43,
   "metadata": {},
   "outputs": [
    {
     "data": {
      "image/png": "[encoded data removed]",
      "text/plain": [
       "<Figure size 432x288 with 1 Axes>"
      ]
     },
     "metadata": {
      "needs_background": "light"
     },
     "output_type": "display_data"
    }
   ],
   "source": [
    "fig, ax = plt.subplots()\n",
    "\n",
    "for name, group in df_penguins.groupby('species'):\n",
    "    ax.scatter(group['mass'], group['flipper_l'], label=name)\n",
    "\n",
    "plt.legend()\n",
    "plt.show()"
   ]
  },
  {
   "attachments": {},
   "cell_type": "markdown",
   "metadata": {},
   "source": [
    "More information is needed. Create a single figure with two plots next to each other.\n",
    "In the first plot, show mass vs flipper length colored by penguin species.\n",
    "In the second plot, show the number of male vs female penguins per island, using a bar chart.\n",
    "Experiment with adding labels, ticks, etc... to make the figure as appealing as possible!"
   ]
  },
  {
   "cell_type": "code",
   "execution_count": 86,
   "metadata": {},
   "outputs": [
    {
     "data": {
      "image/png": "[encoded data removed]",
      "text/plain": [
       "<Figure size 432x288 with 2 Axes>"
      ]
     },
     "metadata": {
      "needs_background": "light"
     },
     "output_type": "display_data"
    }
   ],
   "source": [
    "#layout='constrained' makes sure that the figure fits in the boundaries when saving\n",
    "fig, axes = plt.subplots(nrows=1, ncols=2, layout='constrained') \n",
    "\n",
    "for name, group in df_penguins.groupby('species'):\n",
    "    axes[0].scatter(group['mass'], group['flipper_l'], label=name)\n",
    "axes[0].set_xlabel(\"Mass (g)\")\n",
    "axes[0].set_ylabel('Flipper length (mm)')\n",
    "axes[0].legend()\n",
    "\n",
    "# Plotting the penguin counts takes a bit more effort.\n",
    "penguin_counts = df_penguins.groupby(['island', 'sex']).size() # First we calculate the sizes of every group (the # of penguins)\n",
    "x = np.arange(len(islands)) # Then we need to manually set the location of the bars  on the x-axis (every island corresponds to a number from 0 to 2)\n",
    "width = 0.3 # width of the bars\n",
    "# Plot bars for the males and females individually. Note the selector, we select every island (:) and than the sex individually.\n",
    "# We can do this because groupby multiple levels (island and sex) creates a so-called MultiIndex. This is a useful when you need to select specific subgroups.\n",
    "axes[1].bar(x - width/2, penguin_counts.loc[:, 'Male'], width=width, label='Male') \n",
    "axes[1].bar(x + width/2, penguin_counts.loc[:, 'Female'], width=width, label='Female')\n",
    "# Some styling to make the figure look a bit nicer\n",
    "axes[1].set_xticks(x)\n",
    "axes[1].set_xticklabels(islands)\n",
    "axes[1].set_ylabel('Count')\n",
    "\n",
    "plt.legend()\n",
    "plt.show()"
   ]
  },
  {
   "attachments": {},
   "cell_type": "markdown",
   "metadata": {},
   "source": [
    "Seaborn is a great package to make visualizations. Can you reproduce the above plot using seaborn?\n",
    "A hint is given to get you started adding seaborn to matplotlib figures."
   ]
  },
  {
   "cell_type": "code",
   "execution_count": 83,
   "metadata": {},
   "outputs": [],
   "source": [
    "# If seaborn isn't installed yet, this will install it for you.\n",
    "\n",
    "try:\n",
    "    import seaborn as sns\n",
    "except ImportError:\n",
    "    %pip install seaborn"
   ]
  },
  {
   "cell_type": "code",
   "execution_count": 92,
   "metadata": {},
   "outputs": [
    {
     "data": {
      "image/png": "[encoded data removed]",
      "text/plain": [
       "<Figure size 432x288 with 2 Axes>"
      ]
     },
     "metadata": {
      "needs_background": "light"
     },
     "output_type": "display_data"
    }
   ],
   "source": [
    "fig, axes = plt.subplots(1,2, constrained_layout=True)\n",
    "\n",
    "# We can plot Seaborn plots directly on Matplotlib axes. Useful for composing multiple figures!\n",
    "# Also note how expressive the plotting is. We can be very explicit about which relations we want to plot, \n",
    "# without struggling between matching the data analysis with the specific formats required by Matplotlib\n",
    "sns.scatterplot(ax=axes[0], data=df_penguins, x='mass', y='flipper_l', hue='species')\n",
    "sns.histplot(ax=axes[1], data=df_penguins, x='island', hue='sex', multiple='dodge', shrink=0.8)\n",
    "\n",
    "plt.show()"
   ]
  },
  {
   "attachments": {},
   "cell_type": "markdown",
   "metadata": {},
   "source": [
    "Hmm, I don't like these colours.Can you recreate the previous plot, but try out a couple of different color palettes?\n",
    "Hint: `sns.set_palette` works globally, so it affects all of your plots.\n",
    "Look at the docs of `sns.color_palette` to see how you can temporarily change the palette instead. "
   ]
  },
  {
   "cell_type": "code",
   "execution_count": 106,
   "metadata": {},
   "outputs": [
    {
     "data": {
      "image/png": "[encoded data removed]",
      "text/plain": [
       "<Figure size 576x288 with 2 Axes>"
      ]
     },
     "metadata": {
      "needs_background": "light"
     },
     "output_type": "display_data"
    }
   ],
   "source": [
    "# We temporarily set the color palette using a `with` statement.\n",
    "with sns.color_palette(\"Set1\"):\n",
    "\n",
    "    fig, axes = plt.subplots(1,2, figsize=(8,4), constrained_layout=True) # Slightly adjust the figure size (in inches)\n",
    "\n",
    "    sns.scatterplot(ax=axes[0], data=df_penguins, x='mass', y='flipper_l', hue='species')\n",
    "    sns.histplot(ax=axes[1], data=df_penguins, \n",
    "                x='island', hue='sex', \n",
    "                multiple='dodge', shrink=0.7,\n",
    "                palette=['C3', 'C4'] # We set the color palette for the histogram explicitly, to further distuingish the colors from the scatter plot\n",
    "                # C3, C4, Ci, etc... always refer to the 3rd, 4th, ith color in the active color palette\n",
    "    )\n",
    "\n",
    "    # We manually set some of the axis-labels to finalize the figure\n",
    "    axes[0].set_xlabel('Mass (g)')\n",
    "    axes[0].set_ylabel('Flipper lengt (mm)')\n",
    "    axes[1].set_xlabel('Island')\n",
    "\n",
    "    sns.despine() # This function automatically removes some of the black lines around the plots\n",
    "\n",
    "    plt.show()"
   ]
  }
 ],
 "metadata": {
  "kernelspec": {
   "display_name": "dev",
   "language": "python",
   "name": "python3"
  },
  "language_info": {
   "codemirror_mode": {
    "name": "ipython",
    "version": 3
   },
   "file_extension": ".py",
   "mimetype": "text/x-python",
   "name": "python",
   "nbconvert_exporter": "python",
   "pygments_lexer": "ipython3",
   "version": "3.10.5"
  },
  "orig_nbformat": 4
 },
 "nbformat": 4,
 "nbformat_minor": 2
}
