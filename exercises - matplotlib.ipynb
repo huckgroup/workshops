{
 "cells": [
  {
   "cell_type": "code",
   "execution_count": null,
   "metadata": {},
   "outputs": [],
   "source": []
  }
 ],
 "metadata": {
  "kernelspec": {
   "display_name": "timstof",
   "language": "python",
   "name": "python3"
  },
  "language_info": {
   "name": "python",
   "version": "3.10.8"
  },
  "orig_nbformat": 4,
  "vscode": {
   "interpreter": {
    "hash": "6ae6346a62264912aa1f20fdd13eab440fe51eb4c27b42f59b487f568dbe0acd"
   }
  }
 },
 "nbformat": 4,
 "nbformat_minor": 2
}
